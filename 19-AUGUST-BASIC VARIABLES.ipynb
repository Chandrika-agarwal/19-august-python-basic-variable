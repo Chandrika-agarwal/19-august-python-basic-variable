{
 "cells": [
  {
   "cell_type": "code",
   "execution_count": 3,
   "id": "688e84d7-4638-48c2-bf12-bc33359b2a01",
   "metadata": {},
   "outputs": [
    {
     "name": "stdout",
     "output_type": "stream",
     "text": [
      "After swapping:\n",
      "x= 10\n",
      "y= 5\n"
     ]
    }
   ],
   "source": [
    "x = 5\n",
    "y = 10\n",
    "x = x+y\n",
    "y = x-y\n",
    "x = x-y\n",
    "print(\"After swapping:\")\n",
    "print(\"x=\",x)\n",
    "print(\"y=\",y)\n"
   ]
  },
  {
   "cell_type": "code",
   "execution_count": null,
   "id": "7de3c4cd-0d8c-43ec-b434-ca8fdb14d99a",
   "metadata": {},
   "outputs": [],
   "source": [
    "In this code, we first declare two variables x and y and assign them the integer values 5 and 10, respectively. We then print the initial values of x and y.\n",
    "\n",
    "To swap the values of x and y without using any temporary variable, we use Python's multiple assignment feature. Here, x, y = y, x is equivalent to (x, y) = (y, x), which assigns the value of y to x and the value of x to y.\n",
    "\n",
    "Finally, we print the final values of x and y after swapping.\n",
    "\n",
    "Running this code will produce the following output:\n",
    "\n"
   ]
  },
  {
   "cell_type": "code",
   "execution_count": null,
   "id": "180bbd61-67fa-4543-9715-55b5af44721b",
   "metadata": {},
   "outputs": [],
   "source": []
  }
 ],
 "metadata": {
  "kernelspec": {
   "display_name": "Python 3 (ipykernel)",
   "language": "python",
   "name": "python3"
  },
  "language_info": {
   "codemirror_mode": {
    "name": "ipython",
    "version": 3
   },
   "file_extension": ".py",
   "mimetype": "text/x-python",
   "name": "python",
   "nbconvert_exporter": "python",
   "pygments_lexer": "ipython3",
   "version": "3.10.8"
  }
 },
 "nbformat": 4,
 "nbformat_minor": 5
}
